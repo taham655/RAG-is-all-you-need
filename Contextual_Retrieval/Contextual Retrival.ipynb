{
  "nbformat": 4,
  "nbformat_minor": 0,
  "metadata": {
    "colab": {
      "provenance": []
    },
    "kernelspec": {
      "name": "python3",
      "display_name": "Python 3"
    },
    "language_info": {
      "name": "python"
    }
  },
  "cells": [
    {
      "cell_type": "code",
      "execution_count": null,
      "metadata": {
        "id": "Zctwt0ve4PXH"
      },
      "outputs": [],
      "source": [
        "!pip install langchain_core langchain_openai langchain_chroma rank_bm25"
      ]
    },
    {
      "cell_type": "code",
      "source": [
        "!pip install langchain_community"
      ],
      "metadata": {
        "id": "PZzyPvNt7Vjx"
      },
      "execution_count": null,
      "outputs": []
    },
    {
      "cell_type": "code",
      "source": [
        "!pip install pypdf"
      ],
      "metadata": {
        "id": "PP64zZnx68iQ"
      },
      "execution_count": null,
      "outputs": []
    },
    {
      "cell_type": "code",
      "source": [
        "import os\n",
        "from google.colab import userdata\n",
        "os.environ[\"OPENAI_API_KEY\"] =userdata.get('OPENAI_API_KEY')"
      ],
      "metadata": {
        "id": "hrOfDpHU4Zxf"
      },
      "execution_count": 14,
      "outputs": []
    },
    {
      "cell_type": "code",
      "source": [
        "from langchain_community.document_loaders import PyPDFLoader\n",
        "\n",
        "loader = PyPDFLoader('/content/build-career-in-ai.pdf')\n",
        "documents = loader.load()"
      ],
      "metadata": {
        "id": "VijmYLpS7KNZ"
      },
      "execution_count": 7,
      "outputs": []
    },
    {
      "cell_type": "code",
      "source": [
        "len(documents)"
      ],
      "metadata": {
        "colab": {
          "base_uri": "https://localhost:8080/"
        },
        "id": "OGjGPujr7rrd",
        "outputId": "c5695bf0-ff47-4656-8e5c-cb11379cb828"
      },
      "execution_count": 9,
      "outputs": [
        {
          "output_type": "execute_result",
          "data": {
            "text/plain": [
              "41"
            ]
          },
          "metadata": {},
          "execution_count": 9
        }
      ]
    },
    {
      "cell_type": "markdown",
      "source": [
        "### Imports"
      ],
      "metadata": {
        "id": "EUKvQbS48StR"
      }
    },
    {
      "cell_type": "code",
      "source": [
        "from langchain.retrievers import EnsembleRetriever\n",
        "from langchain_community.retrievers import BM25Retriever\n",
        "from langchain_community.vectorstores import FAISS\n",
        "from langchain_openai import OpenAIEmbeddings\n",
        "from langchain.text_splitter import RecursiveCharacterTextSplitter\n",
        "from langchain.schema import Document\n",
        "from langchain_chroma import Chroma\n",
        "from langchain_openai import ChatOpenAI\n",
        "from langchain.prompts import ChatPromptTemplate"
      ],
      "metadata": {
        "id": "pUe_nn014ZA7"
      },
      "execution_count": 23,
      "outputs": []
    },
    {
      "cell_type": "code",
      "source": [
        "embeddings = OpenAIEmbeddings()\n",
        "llm = ChatOpenAI(model=\"gpt-4o-mini\",temperature=0)\n",
        "text_splitter = RecursiveCharacterTextSplitter(chunk_size=500,chunk_overlap=500)"
      ],
      "metadata": {
        "id": "xhze0Woa4ZvW"
      },
      "execution_count": 26,
      "outputs": []
    },
    {
      "cell_type": "code",
      "source": [
        "chunks = text_splitter.split_documents(documents)"
      ],
      "metadata": {
        "id": "mLPMB2t04ZtQ"
      },
      "execution_count": 27,
      "outputs": []
    },
    {
      "cell_type": "code",
      "source": [
        "len(chunks)"
      ],
      "metadata": {
        "colab": {
          "base_uri": "https://localhost:8080/"
        },
        "id": "L_Kr-J5S4Zqg",
        "outputId": "c6c64935-17e4-4d2a-b51f-b3fc9cbc4212"
      },
      "execution_count": 28,
      "outputs": [
        {
          "output_type": "execute_result",
          "data": {
            "text/plain": [
              "432"
            ]
          },
          "metadata": {},
          "execution_count": 28
        }
      ]
    },
    {
      "cell_type": "markdown",
      "source": [
        "# Prompt for adding context to the chunks"
      ],
      "metadata": {
        "id": "hlXiakay817K"
      }
    },
    {
      "cell_type": "code",
      "source": [
        "contextual_retrieval_prompt = ChatPromptTemplate.from_template(\"\"\"\n",
        "<document>\n",
        "{DOCUMENT}\n",
        "</document>\n",
        "Here is the chunk we want to situate within the whole document\n",
        "<chunk>\n",
        "{CHUNK}\n",
        "</chunk>\n",
        "Please give a short succinct context to situate this chunk within the overall document for the purposes of improving search retrieval of the chunk. Answer only with the succinct context and nothing else.\n",
        "\"\"\"\n",
        ")"
      ],
      "metadata": {
        "id": "T4SqFkqK8wwI"
      },
      "execution_count": 29,
      "outputs": []
    },
    {
      "cell_type": "code",
      "source": [
        "def adding_context(prompt, document, chunk):\n",
        "  content = prompt.format(DOCUMENT=document, CHUNK=chunk)\n",
        "  response = llm.invoke(content)\n",
        "  return response.content"
      ],
      "metadata": {
        "id": "uE8WY3UE9WOf"
      },
      "execution_count": 30,
      "outputs": []
    },
    {
      "cell_type": "code",
      "source": [
        "contextualized_chunks = []\n",
        "\n",
        "for chunk in chunks:\n",
        "  context = adding_context(contextual_retrieval_prompt, documents, chunk)\n",
        "  contextualized_content = f\"{context}\\n\\n{chunk.page_content}\"\n",
        "  contextualized_chunks.append(Document(page_content=contextualized_content, metadata=chunk.metadata))\n",
        "  print(f\"Added context to chunk no:{len(contextualized_chunks)}\")\n",
        "\n",
        ""
      ],
      "metadata": {
        "collapsed": true,
        "id": "VB644O-E96jM"
      },
      "execution_count": null,
      "outputs": []
    },
    {
      "cell_type": "code",
      "source": [
        "contextualized_chunks[102]"
      ],
      "metadata": {
        "colab": {
          "base_uri": "https://localhost:8080/"
        },
        "id": "iow1R34O_LeH",
        "outputId": "787d5c8a-6ea6-48b2-e439-e4d3f480fd0a"
      },
      "execution_count": 36,
      "outputs": [
        {
          "output_type": "execute_result",
          "data": {
            "text/plain": [
              "Document(metadata={'source': '/content/build-career-in-ai.pdf', 'page': 10}, page_content='This chunk is part of Chapter 2, \"Learning Technical Skills for a Promising AI Career,\" where the author discusses the importance of building small, consistent habits for effective learning. It emphasizes starting with manageable goals, such as watching a brief educational video daily, to cultivate a routine of continuous study and skill development in the field of AI.\\n\\nand succeed, rather than start  too big and fail. For example, rather than trying to \\nexercise for 30 minutes a day, he recommends aspiring to do just one push-up, and \\ndoing it consistently.\\nThis approach may be helpful to those of you who want to spend more time studying. \\nIf you start by holding yourself accountable for watching, say, 10 seconds of an \\neducational video every day — and you do so consistently — the habit of studying daily')"
            ]
          },
          "metadata": {},
          "execution_count": 36
        }
      ]
    },
    {
      "cell_type": "markdown",
      "source": [
        "### Vectorizing and saving in vectorstore"
      ],
      "metadata": {
        "id": "Mx9_MpffYmlu"
      }
    },
    {
      "cell_type": "code",
      "source": [
        "from langchain_chroma import Chroma\n",
        "\n",
        "db = Chroma.from_documents(contextualized_chunks ,embeddings)"
      ],
      "metadata": {
        "id": "rz2qXPr_Fmzd"
      },
      "execution_count": 37,
      "outputs": []
    },
    {
      "cell_type": "code",
      "source": [
        "from langchain.retrievers import EnsembleRetriever\n",
        "from langchain_community.retrievers import BM25Retriever"
      ],
      "metadata": {
        "id": "VFBlu_toYyDg"
      },
      "execution_count": 38,
      "outputs": []
    },
    {
      "cell_type": "code",
      "source": [
        "vector_retriever = db.as_retriever()\n",
        "bm25_retriever = BM25Retriever.from_documents(contextualized_chunks)"
      ],
      "metadata": {
        "id": "uBkfStChY_-F"
      },
      "execution_count": 39,
      "outputs": []
    },
    {
      "cell_type": "code",
      "source": [
        "ensemble_retriever = EnsembleRetriever(\n",
        "    retrievers=[bm25_retriever, vector_retriever], weights=[0.5, 0.5]\n",
        ")"
      ],
      "metadata": {
        "id": "SB0iSLtzZAYR"
      },
      "execution_count": 40,
      "outputs": []
    },
    {
      "cell_type": "code",
      "source": [
        "ensemble_retriever.invoke(\"How to excel in AI?\")"
      ],
      "metadata": {
        "colab": {
          "base_uri": "https://localhost:8080/"
        },
        "collapsed": true,
        "id": "nH7k87Tpsjt7",
        "outputId": "ae1c63f0-dafc-462f-c543-95b8a0d64d57"
      },
      "execution_count": 49,
      "outputs": [
        {
          "output_type": "execute_result",
          "data": {
            "text/plain": [
              "[Document(metadata={'source': '/content/build-career-in-ai.pdf', 'page': 12}, page_content='This chunk is from Chapter 3 of the document, titled \"Should You Learn Math to Get a Job in AI?\" It discusses the importance of math as a foundational skill for a career in AI, emphasizing the need to prioritize specific mathematical knowledge relevant to decision-making in AI roles.\\n\\nPAGE 13Should you Learn Math to Get a Job in AI? CHAPTER 3\\nIs math a foundational skill for AI? It’s always nice to know more math! But there’s so much to \\nlearn that, realistically, it’s necessary to prioritize. Here’s how you might go about strengthening \\nyour math background.\\nTo figure out what’s important to know, I find it useful to ask what you need to know to make \\nthe decisions required for the work you want to do. At DeepLearning.AI, we frequently ask,'),\n",
              " Document(metadata={'page': 34, 'source': '/content/build-career-in-ai.pdf'}, page_content='This chunk is from Chapter 10, titled \"Keys to Building a Career in AI,\" which discusses essential factors for achieving career success in the AI field. It emphasizes the importance of teamwork, collaboration, and interpersonal skills as critical components for navigating large projects and advancing in one\\'s career.\\n\\nThe path to career success in AI is more complex than what I can  cover in one short eBook. \\nHopefully the previous chapters will give you momentum to move forward. \\nHere are additional things to think about as you plot your path to success: \\nWhen we tackle large projects, we succeed better by \\nworking in teams than individually. The ability to collaborate \\nwith, influence, and be influenced by others is critical. \\nThus, interpersonal and communication skills really matter.'),\n",
              " Document(metadata={'source': '/content/build-career-in-ai.pdf', 'page': 11}, page_content='This chunk is from Chapter 3 of the document, titled \"Should You Learn Math to Get a Job in AI?\" It discusses the importance of math as a foundational skill for a career in AI, emphasizing the relevance of understanding mathematical concepts for making informed decisions in machine learning and AI roles.\\n\\nPAGE 12Should You \\nLearn Math to \\nGet a Job in AI? CHAPTER 3\\nLEARNING'),\n",
              " Document(metadata={'page': 2, 'source': '/content/build-career-in-ai.pdf'}, page_content='This chunk is an excerpt from the Table of Contents of the document \"How to Build Your Career in AI\" by Andrew Ng, outlining the chapters that guide readers through the process of developing a career in artificial intelligence, including steps for career growth, technical skill acquisition, project scoping, and job searching strategies.\\n\\nChapter 1: Three Steps to Career Growth.\\nChapter 2: Learning Technical Skills for a \\nPromising AI Career.\\nChapter 3: Should You Learn Math to Get a Job \\nin AI?\\nChapter 4: Scoping Successful AI Projects.\\nChapter 5: Finding Projects that Complement \\nYour Career Goals.\\nChapter 6: Building a Portfolio of Projects that \\nShows Skill Progression.\\nChapter 7: A Simple Framework for Starting Your AI \\nJob Search.\\nChapter 8: Using Informational Interviews to Find \\nthe Right Job.'),\n",
              " Document(metadata={'source': '/content/build-career-in-ai.pdf', 'page': 8}, page_content='This chunk is part of Chapter 2, which focuses on learning technical skills essential for a promising career in AI. It discusses foundational machine learning skills, emphasizing the importance of understanding core concepts and deep learning fundamentals.\\n\\ndetection. Beyond specific models, it’s even more important to understand the core concepts \\nbehind how and why machine learning works, such as bias/variance, cost functions, regularization, \\noptimization algorithms, and error analysis.\\nDeep learning: This has become such a large fraction of machine learning that it’s hard to excel \\nin the field without some understanding of it! It’s valuable to know the basics of neural networks,'),\n",
              " Document(metadata={'page': 2, 'source': '/content/build-career-in-ai.pdf'}, page_content='This chunk is an excerpt from the Table of Contents of the document \"How to Build Your Career in AI\" by Andrew Ng, outlining the chapters that guide readers through various aspects of developing a career in artificial intelligence, including learning technical skills, scoping projects, building a portfolio, and job search strategies.\\n\\nPromising AI Career.\\nChapter 3: Should You Learn Math to Get a Job \\nin AI?\\nChapter 4: Scoping Successful AI Projects.\\nChapter 5: Finding Projects that Complement \\nYour Career Goals.\\nChapter 6: Building a Portfolio of Projects that \\nShows Skill Progression.\\nChapter 7: A Simple Framework for Starting Your AI \\nJob Search.\\nChapter 8: Using Informational Interviews to Find \\nthe Right Job.\\nChapter 9: Finding the Right AI Job for You.\\nChapter 10: Keys to Building a Career in AI.'),\n",
              " Document(metadata={'source': '/content/build-career-in-ai.pdf', 'page': 8}, page_content='This chunk is part of Chapter 2, \"Learning Technical Skills for a Promising AI Career,\" which discusses the foundational skills necessary for a career in AI, emphasizing the importance of understanding machine learning concepts and deep learning techniques.\\n\\nbehind how and why machine learning works, such as bias/variance, cost functions, regularization, \\noptimization algorithms, and error analysis.\\nDeep learning: This has become such a large fraction of machine learning that it’s hard to excel \\nin the field without some understanding of it! It’s valuable to know the basics of neural networks, \\npractical skills for making them work (such as hyperparameter tuning), convolutional networks, \\nsequence models, and transformers.'),\n",
              " Document(metadata={'page': 9, 'source': '/content/build-career-in-ai.pdf'}, page_content='This chunk is part of Chapter 2, \"Learning Technical Skills for a Promising AI Career,\" which emphasizes the importance of structured learning and continuous education in the rapidly evolving field of AI and machine learning. It highlights the necessity of mastering foundational knowledge through organized courses before transitioning to more advanced resources like research papers, and underscores the value of lifelong learning in maintaining relevance in the industry.\\n\\nmost time-efficient way to master a meaningful body of knowledge. When you’ve absorbed the \\nknowledge available in courses, you can switch over to research papers and other resources.\\nFinally, no one can cram everything they need to know over a weekend or even a month. Everyone I \\nknow who’s great at machine learning is a lifelong learner. Given how quickly our field is changing, \\nthere’s little choice but to keep learning if you want to keep up.')]"
            ]
          },
          "metadata": {},
          "execution_count": 49
        }
      ]
    },
    {
      "cell_type": "markdown",
      "source": [
        "### Making a Chain"
      ],
      "metadata": {
        "id": "1ChE3c4muC1F"
      }
    },
    {
      "cell_type": "code",
      "source": [
        "from langchain import hub\n",
        "from langchain_core.output_parsers import StrOutputParser\n",
        "from langchain_core.runnables import RunnablePassthrough\n",
        "from langchain_openai import OpenAIEmbeddings"
      ],
      "metadata": {
        "id": "X3TrSdY2sn-8"
      },
      "execution_count": 51,
      "outputs": []
    },
    {
      "cell_type": "code",
      "source": [
        "prompt = hub.pull(\"rlm/rag-prompt\")"
      ],
      "metadata": {
        "colab": {
          "base_uri": "https://localhost:8080/"
        },
        "id": "c9Hyoe2cuY8e",
        "outputId": "d8e97788-9125-493c-b91c-fbf104bf003e"
      },
      "execution_count": 53,
      "outputs": [
        {
          "output_type": "stream",
          "name": "stderr",
          "text": [
            "/usr/local/lib/python3.10/dist-packages/langsmith/client.py:354: LangSmithMissingAPIKeyWarning: API key must be provided when using hosted LangSmith API\n",
            "  warnings.warn(\n"
          ]
        }
      ]
    },
    {
      "cell_type": "code",
      "source": [
        "llm = ChatOpenAI(model=\"gpt-4o\")"
      ],
      "metadata": {
        "id": "XYFfR6DkugbF"
      },
      "execution_count": 56,
      "outputs": []
    },
    {
      "cell_type": "code",
      "source": [
        "def format_docs(docs):\n",
        "    return \"\\n\\n\".join(doc.page_content for doc in docs)"
      ],
      "metadata": {
        "id": "4UxMJK33uFmj"
      },
      "execution_count": 57,
      "outputs": []
    },
    {
      "cell_type": "code",
      "source": [
        "\n",
        "rag_chain = (\n",
        "    {\"context\": ensemble_retriever | format_docs, \"question\": RunnablePassthrough()}\n",
        "    | prompt\n",
        "    | llm\n",
        "    | StrOutputParser()\n",
        ")"
      ],
      "metadata": {
        "id": "x4IB4TdEuU3F"
      },
      "execution_count": 58,
      "outputs": []
    },
    {
      "cell_type": "code",
      "source": [
        "rag_chain.invoke(\"How to excel in AI?\")"
      ],
      "metadata": {
        "colab": {
          "base_uri": "https://localhost:8080/",
          "height": 70
        },
        "id": "_1kC3lhCuadb",
        "outputId": "cad70fd0-80f8-41bd-fd43-b568d4cae8ca"
      },
      "execution_count": 59,
      "outputs": [
        {
          "output_type": "execute_result",
          "data": {
            "text/plain": [
              "\"To excel in AI, it's important to build a strong foundation in relevant mathematical concepts and machine learning fundamentals, including understanding bias/variance, cost functions, and optimization algorithms. Additionally, developing interpersonal and communication skills is crucial for effective teamwork and collaboration on large projects. Lifelong learning and continuous education are essential to stay current in the rapidly evolving field of AI.\""
            ],
            "application/vnd.google.colaboratory.intrinsic+json": {
              "type": "string"
            }
          },
          "metadata": {},
          "execution_count": 59
        }
      ]
    },
    {
      "cell_type": "code",
      "source": [],
      "metadata": {
        "id": "O-9g00Duud48"
      },
      "execution_count": null,
      "outputs": []
    }
  ]
}