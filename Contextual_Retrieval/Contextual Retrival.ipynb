{
  "nbformat": 4,
  "nbformat_minor": 0,
  "metadata": {
    "colab": {
      "provenance": []
    },
    "kernelspec": {
      "name": "python3",
      "display_name": "Python 3"
    },
    "language_info": {
      "name": "python"
    }
  },
  "cells": [
    {
      "cell_type": "code",
      "execution_count": null,
      "metadata": {
        "id": "Zctwt0ve4PXH"
      },
      "outputs": [],
      "source": [
        "!pip install langchain_core langchain_openai langchain_chroma rank_bm25"
      ]
    },
    {
      "cell_type": "code",
      "source": [
        "!pip install langchain_community"
      ],
      "metadata": {
        "id": "PZzyPvNt7Vjx"
      },
      "execution_count": null,
      "outputs": []
    },
    {
      "cell_type": "code",
      "source": [
        "!pip install pypdf"
      ],
      "metadata": {
        "id": "PP64zZnx68iQ"
      },
      "execution_count": null,
      "outputs": []
    },
    {
      "cell_type": "code",
      "source": [
        "import os\n",
        "from google.colab import userdata\n",
        "os.environ[\"OPENAI_API_KEY\"] =userdata.get('OPENAI_API_KEY')"
      ],
      "metadata": {
        "id": "hrOfDpHU4Zxf"
      },
      "execution_count": 14,
      "outputs": []
    },
    {
      "cell_type": "code",
      "source": [
        "from langchain_community.document_loaders import PyPDFLoader\n",
        "\n",
        "loader = PyPDFLoader('/content/build-career-in-ai.pdf')\n",
        "documents = loader.load()"
      ],
      "metadata": {
        "id": "VijmYLpS7KNZ"
      },
      "execution_count": 7,
      "outputs": []
    },
    {
      "cell_type": "code",
      "source": [
        "len(documents)"
      ],
      "metadata": {
        "colab": {
          "base_uri": "https://localhost:8080/"
        },
        "id": "OGjGPujr7rrd",
        "outputId": "c5695bf0-ff47-4656-8e5c-cb11379cb828"
      },
      "execution_count": 9,
      "outputs": [
        {
          "output_type": "execute_result",
          "data": {
            "text/plain": [
              "41"
            ]
          },
          "metadata": {},
          "execution_count": 9
        }
      ]
    },
    {
      "cell_type": "markdown",
      "source": [
        "### Imports"
      ],
      "metadata": {
        "id": "EUKvQbS48StR"
      }
    },
    {
      "cell_type": "code",
      "source": [
        "from langchain.retrievers import EnsembleRetriever\n",
        "from langchain_community.retrievers import BM25Retriever\n",
        "from langchain_community.vectorstores import FAISS\n",
        "from langchain_openai import OpenAIEmbeddings\n",
        "from langchain.text_splitter import RecursiveCharacterTextSplitter\n",
        "from langchain.schema import Document\n",
        "from langchain_chroma import Chroma\n",
        "from langchain_openai import ChatOpenAI\n",
        "from langchain.prompts import ChatPromptTemplate"
      ],
      "metadata": {
        "id": "pUe_nn014ZA7"
      },
      "execution_count": 23,
      "outputs": []
    },
    {
      "cell_type": "code",
      "source": [
        "embeddings = OpenAIEmbeddings()\n",
        "llm = ChatOpenAI(model=\"gpt-4o-mini\",temperature=0)\n",
        "text_splitter = RecursiveCharacterTextSplitter(chunk_size=500,chunk_overlap=500)"
      ],
      "metadata": {
        "id": "xhze0Woa4ZvW"
      },
      "execution_count": 26,
      "outputs": []
    },
    {
      "cell_type": "code",
      "source": [
        "chunks = text_splitter.split_documents(documents)"
      ],
      "metadata": {
        "id": "mLPMB2t04ZtQ"
      },
      "execution_count": 27,
      "outputs": []
    },
    {
      "cell_type": "code",
      "source": [
        "len(chunks)"
      ],
      "metadata": {
        "colab": {
          "base_uri": "https://localhost:8080/"
        },
        "id": "L_Kr-J5S4Zqg",
        "outputId": "c6c64935-17e4-4d2a-b51f-b3fc9cbc4212"
      },
      "execution_count": 28,
      "outputs": [
        {
          "output_type": "execute_result",
          "data": {
            "text/plain": [
              "432"
            ]
          },
          "metadata": {},
          "execution_count": 28
        }
      ]
    },
    {
      "cell_type": "markdown",
      "source": [
        "# Prompt for adding context to the chunks"
      ],
      "metadata": {
        "id": "hlXiakay817K"
      }
    },
    {
      "cell_type": "code",
      "source": [
        "contextual_retrieval_prompt = ChatPromptTemplate.from_template(\"\"\"\n",
        "<document>\n",
        "{DOCUMENT}\n",
        "</document>\n",
        "Here is the chunk we want to situate within the whole document\n",
        "<chunk>\n",
        "{CHUNK}\n",
        "</chunk>\n",
        "Please give a short succinct context to situate this chunk within the overall document for the purposes of improving search retrieval of the chunk. Answer only with the succinct context and nothing else.\n",
        "\"\"\"\n",
        ")"
      ],
      "metadata": {
        "id": "T4SqFkqK8wwI"
      },
      "execution_count": 29,
      "outputs": []
    },
    {
      "cell_type": "code",
      "source": [
        "def adding_context(prompt, document, chunk):\n",
        "  content = prompt.format(DOCUMENT=document, CHUNK=chunk)\n",
        "  response = llm.invoke(content)\n",
        "  return response.content"
      ],
      "metadata": {
        "id": "uE8WY3UE9WOf"
      },
      "execution_count": 30,
      "outputs": []
    },
    {
      "cell_type": "code",
      "source": [
        "contextualized_chunks = []\n",
        "\n",
        "for chunk in chunks:\n",
        "  context = adding_context(contextual_retrieval_prompt, documents, chunk)\n",
        "  contextualized_content = f\"{context}\\n\\n{chunk.page_content}\"\n",
        "  contextualized_chunks.append(Document(page_content=contextualized_content, metadata=chunk.metadata))\n",
        "  print(f\"Added context to chunk no:{len(contextualized_chunks)}\")\n",
        "\n",
        ""
      ],
      "metadata": {
        "colab": {
          "base_uri": "https://localhost:8080/"
        },
        "collapsed": true,
        "id": "VB644O-E96jM",
        "outputId": "cd9299ad-0a48-43e7-b8f7-f13e92dbe005"
      },
      "execution_count": 31,
      "outputs": [
        {
          "output_type": "stream",
          "name": "stdout",
          "text": [
            "Added context to chunk no:1\n",
            "Added context to chunk no:2\n",
            "Added context to chunk no:3\n",
            "Added context to chunk no:4\n",
            "Added context to chunk no:5\n",
            "Added context to chunk no:6\n",
            "Added context to chunk no:7\n",
            "Added context to chunk no:8\n",
            "Added context to chunk no:9\n",
            "Added context to chunk no:10\n",
            "Added context to chunk no:11\n",
            "Added context to chunk no:12\n",
            "Added context to chunk no:13\n",
            "Added context to chunk no:14\n",
            "Added context to chunk no:15\n",
            "Added context to chunk no:16\n",
            "Added context to chunk no:17\n",
            "Added context to chunk no:18\n",
            "Added context to chunk no:19\n",
            "Added context to chunk no:20\n",
            "Added context to chunk no:21\n",
            "Added context to chunk no:22\n",
            "Added context to chunk no:23\n",
            "Added context to chunk no:24\n",
            "Added context to chunk no:25\n",
            "Added context to chunk no:26\n",
            "Added context to chunk no:27\n",
            "Added context to chunk no:28\n",
            "Added context to chunk no:29\n",
            "Added context to chunk no:30\n",
            "Added context to chunk no:31\n",
            "Added context to chunk no:32\n",
            "Added context to chunk no:33\n",
            "Added context to chunk no:34\n",
            "Added context to chunk no:35\n",
            "Added context to chunk no:36\n",
            "Added context to chunk no:37\n",
            "Added context to chunk no:38\n",
            "Added context to chunk no:39\n",
            "Added context to chunk no:40\n",
            "Added context to chunk no:41\n",
            "Added context to chunk no:42\n",
            "Added context to chunk no:43\n",
            "Added context to chunk no:44\n",
            "Added context to chunk no:45\n",
            "Added context to chunk no:46\n",
            "Added context to chunk no:47\n",
            "Added context to chunk no:48\n",
            "Added context to chunk no:49\n",
            "Added context to chunk no:50\n",
            "Added context to chunk no:51\n",
            "Added context to chunk no:52\n",
            "Added context to chunk no:53\n",
            "Added context to chunk no:54\n",
            "Added context to chunk no:55\n",
            "Added context to chunk no:56\n",
            "Added context to chunk no:57\n",
            "Added context to chunk no:58\n",
            "Added context to chunk no:59\n",
            "Added context to chunk no:60\n",
            "Added context to chunk no:61\n",
            "Added context to chunk no:62\n",
            "Added context to chunk no:63\n",
            "Added context to chunk no:64\n",
            "Added context to chunk no:65\n",
            "Added context to chunk no:66\n",
            "Added context to chunk no:67\n",
            "Added context to chunk no:68\n",
            "Added context to chunk no:69\n",
            "Added context to chunk no:70\n",
            "Added context to chunk no:71\n",
            "Added context to chunk no:72\n",
            "Added context to chunk no:73\n",
            "Added context to chunk no:74\n",
            "Added context to chunk no:75\n",
            "Added context to chunk no:76\n",
            "Added context to chunk no:77\n",
            "Added context to chunk no:78\n",
            "Added context to chunk no:79\n",
            "Added context to chunk no:80\n",
            "Added context to chunk no:81\n",
            "Added context to chunk no:82\n",
            "Added context to chunk no:83\n",
            "Added context to chunk no:84\n",
            "Added context to chunk no:85\n",
            "Added context to chunk no:86\n",
            "Added context to chunk no:87\n",
            "Added context to chunk no:88\n",
            "Added context to chunk no:89\n",
            "Added context to chunk no:90\n",
            "Added context to chunk no:91\n",
            "Added context to chunk no:92\n",
            "Added context to chunk no:93\n",
            "Added context to chunk no:94\n",
            "Added context to chunk no:95\n",
            "Added context to chunk no:96\n",
            "Added context to chunk no:97\n",
            "Added context to chunk no:98\n",
            "Added context to chunk no:99\n",
            "Added context to chunk no:100\n",
            "Added context to chunk no:101\n",
            "Added context to chunk no:102\n",
            "Added context to chunk no:103\n",
            "Added context to chunk no:104\n",
            "Added context to chunk no:105\n",
            "Added context to chunk no:106\n",
            "Added context to chunk no:107\n",
            "Added context to chunk no:108\n",
            "Added context to chunk no:109\n",
            "Added context to chunk no:110\n",
            "Added context to chunk no:111\n",
            "Added context to chunk no:112\n",
            "Added context to chunk no:113\n",
            "Added context to chunk no:114\n",
            "Added context to chunk no:115\n",
            "Added context to chunk no:116\n",
            "Added context to chunk no:117\n",
            "Added context to chunk no:118\n",
            "Added context to chunk no:119\n",
            "Added context to chunk no:120\n",
            "Added context to chunk no:121\n",
            "Added context to chunk no:122\n",
            "Added context to chunk no:123\n",
            "Added context to chunk no:124\n",
            "Added context to chunk no:125\n",
            "Added context to chunk no:126\n",
            "Added context to chunk no:127\n",
            "Added context to chunk no:128\n",
            "Added context to chunk no:129\n",
            "Added context to chunk no:130\n",
            "Added context to chunk no:131\n",
            "Added context to chunk no:132\n",
            "Added context to chunk no:133\n",
            "Added context to chunk no:134\n",
            "Added context to chunk no:135\n",
            "Added context to chunk no:136\n",
            "Added context to chunk no:137\n",
            "Added context to chunk no:138\n",
            "Added context to chunk no:139\n",
            "Added context to chunk no:140\n",
            "Added context to chunk no:141\n",
            "Added context to chunk no:142\n",
            "Added context to chunk no:143\n",
            "Added context to chunk no:144\n",
            "Added context to chunk no:145\n",
            "Added context to chunk no:146\n",
            "Added context to chunk no:147\n",
            "Added context to chunk no:148\n",
            "Added context to chunk no:149\n",
            "Added context to chunk no:150\n",
            "Added context to chunk no:151\n",
            "Added context to chunk no:152\n",
            "Added context to chunk no:153\n",
            "Added context to chunk no:154\n",
            "Added context to chunk no:155\n",
            "Added context to chunk no:156\n",
            "Added context to chunk no:157\n",
            "Added context to chunk no:158\n",
            "Added context to chunk no:159\n",
            "Added context to chunk no:160\n",
            "Added context to chunk no:161\n",
            "Added context to chunk no:162\n",
            "Added context to chunk no:163\n",
            "Added context to chunk no:164\n",
            "Added context to chunk no:165\n",
            "Added context to chunk no:166\n",
            "Added context to chunk no:167\n",
            "Added context to chunk no:168\n",
            "Added context to chunk no:169\n",
            "Added context to chunk no:170\n",
            "Added context to chunk no:171\n",
            "Added context to chunk no:172\n",
            "Added context to chunk no:173\n",
            "Added context to chunk no:174\n",
            "Added context to chunk no:175\n",
            "Added context to chunk no:176\n",
            "Added context to chunk no:177\n",
            "Added context to chunk no:178\n",
            "Added context to chunk no:179\n",
            "Added context to chunk no:180\n",
            "Added context to chunk no:181\n",
            "Added context to chunk no:182\n",
            "Added context to chunk no:183\n",
            "Added context to chunk no:184\n",
            "Added context to chunk no:185\n",
            "Added context to chunk no:186\n",
            "Added context to chunk no:187\n",
            "Added context to chunk no:188\n",
            "Added context to chunk no:189\n",
            "Added context to chunk no:190\n",
            "Added context to chunk no:191\n",
            "Added context to chunk no:192\n",
            "Added context to chunk no:193\n",
            "Added context to chunk no:194\n",
            "Added context to chunk no:195\n",
            "Added context to chunk no:196\n",
            "Added context to chunk no:197\n",
            "Added context to chunk no:198\n",
            "Added context to chunk no:199\n",
            "Added context to chunk no:200\n",
            "Added context to chunk no:201\n",
            "Added context to chunk no:202\n",
            "Added context to chunk no:203\n",
            "Added context to chunk no:204\n",
            "Added context to chunk no:205\n",
            "Added context to chunk no:206\n",
            "Added context to chunk no:207\n",
            "Added context to chunk no:208\n",
            "Added context to chunk no:209\n",
            "Added context to chunk no:210\n",
            "Added context to chunk no:211\n",
            "Added context to chunk no:212\n",
            "Added context to chunk no:213\n",
            "Added context to chunk no:214\n",
            "Added context to chunk no:215\n",
            "Added context to chunk no:216\n",
            "Added context to chunk no:217\n",
            "Added context to chunk no:218\n",
            "Added context to chunk no:219\n",
            "Added context to chunk no:220\n",
            "Added context to chunk no:221\n",
            "Added context to chunk no:222\n",
            "Added context to chunk no:223\n",
            "Added context to chunk no:224\n",
            "Added context to chunk no:225\n",
            "Added context to chunk no:226\n",
            "Added context to chunk no:227\n",
            "Added context to chunk no:228\n",
            "Added context to chunk no:229\n",
            "Added context to chunk no:230\n",
            "Added context to chunk no:231\n",
            "Added context to chunk no:232\n",
            "Added context to chunk no:233\n",
            "Added context to chunk no:234\n",
            "Added context to chunk no:235\n",
            "Added context to chunk no:236\n",
            "Added context to chunk no:237\n",
            "Added context to chunk no:238\n",
            "Added context to chunk no:239\n",
            "Added context to chunk no:240\n",
            "Added context to chunk no:241\n",
            "Added context to chunk no:242\n",
            "Added context to chunk no:243\n",
            "Added context to chunk no:244\n",
            "Added context to chunk no:245\n",
            "Added context to chunk no:246\n",
            "Added context to chunk no:247\n",
            "Added context to chunk no:248\n",
            "Added context to chunk no:249\n",
            "Added context to chunk no:250\n",
            "Added context to chunk no:251\n",
            "Added context to chunk no:252\n",
            "Added context to chunk no:253\n",
            "Added context to chunk no:254\n",
            "Added context to chunk no:255\n",
            "Added context to chunk no:256\n",
            "Added context to chunk no:257\n",
            "Added context to chunk no:258\n",
            "Added context to chunk no:259\n",
            "Added context to chunk no:260\n",
            "Added context to chunk no:261\n",
            "Added context to chunk no:262\n",
            "Added context to chunk no:263\n",
            "Added context to chunk no:264\n",
            "Added context to chunk no:265\n",
            "Added context to chunk no:266\n",
            "Added context to chunk no:267\n",
            "Added context to chunk no:268\n",
            "Added context to chunk no:269\n",
            "Added context to chunk no:270\n",
            "Added context to chunk no:271\n",
            "Added context to chunk no:272\n",
            "Added context to chunk no:273\n",
            "Added context to chunk no:274\n",
            "Added context to chunk no:275\n",
            "Added context to chunk no:276\n",
            "Added context to chunk no:277\n",
            "Added context to chunk no:278\n",
            "Added context to chunk no:279\n",
            "Added context to chunk no:280\n",
            "Added context to chunk no:281\n",
            "Added context to chunk no:282\n",
            "Added context to chunk no:283\n",
            "Added context to chunk no:284\n",
            "Added context to chunk no:285\n",
            "Added context to chunk no:286\n",
            "Added context to chunk no:287\n",
            "Added context to chunk no:288\n",
            "Added context to chunk no:289\n",
            "Added context to chunk no:290\n",
            "Added context to chunk no:291\n",
            "Added context to chunk no:292\n",
            "Added context to chunk no:293\n",
            "Added context to chunk no:294\n",
            "Added context to chunk no:295\n",
            "Added context to chunk no:296\n",
            "Added context to chunk no:297\n",
            "Added context to chunk no:298\n",
            "Added context to chunk no:299\n",
            "Added context to chunk no:300\n",
            "Added context to chunk no:301\n",
            "Added context to chunk no:302\n",
            "Added context to chunk no:303\n",
            "Added context to chunk no:304\n",
            "Added context to chunk no:305\n",
            "Added context to chunk no:306\n",
            "Added context to chunk no:307\n",
            "Added context to chunk no:308\n",
            "Added context to chunk no:309\n",
            "Added context to chunk no:310\n",
            "Added context to chunk no:311\n",
            "Added context to chunk no:312\n",
            "Added context to chunk no:313\n",
            "Added context to chunk no:314\n",
            "Added context to chunk no:315\n",
            "Added context to chunk no:316\n",
            "Added context to chunk no:317\n",
            "Added context to chunk no:318\n",
            "Added context to chunk no:319\n",
            "Added context to chunk no:320\n",
            "Added context to chunk no:321\n",
            "Added context to chunk no:322\n",
            "Added context to chunk no:323\n",
            "Added context to chunk no:324\n",
            "Added context to chunk no:325\n",
            "Added context to chunk no:326\n",
            "Added context to chunk no:327\n",
            "Added context to chunk no:328\n",
            "Added context to chunk no:329\n",
            "Added context to chunk no:330\n",
            "Added context to chunk no:331\n",
            "Added context to chunk no:332\n",
            "Added context to chunk no:333\n",
            "Added context to chunk no:334\n",
            "Added context to chunk no:335\n",
            "Added context to chunk no:336\n",
            "Added context to chunk no:337\n",
            "Added context to chunk no:338\n",
            "Added context to chunk no:339\n",
            "Added context to chunk no:340\n",
            "Added context to chunk no:341\n",
            "Added context to chunk no:342\n",
            "Added context to chunk no:343\n",
            "Added context to chunk no:344\n",
            "Added context to chunk no:345\n",
            "Added context to chunk no:346\n",
            "Added context to chunk no:347\n",
            "Added context to chunk no:348\n",
            "Added context to chunk no:349\n",
            "Added context to chunk no:350\n",
            "Added context to chunk no:351\n",
            "Added context to chunk no:352\n",
            "Added context to chunk no:353\n",
            "Added context to chunk no:354\n",
            "Added context to chunk no:355\n",
            "Added context to chunk no:356\n",
            "Added context to chunk no:357\n",
            "Added context to chunk no:358\n",
            "Added context to chunk no:359\n",
            "Added context to chunk no:360\n",
            "Added context to chunk no:361\n",
            "Added context to chunk no:362\n",
            "Added context to chunk no:363\n",
            "Added context to chunk no:364\n",
            "Added context to chunk no:365\n",
            "Added context to chunk no:366\n",
            "Added context to chunk no:367\n",
            "Added context to chunk no:368\n",
            "Added context to chunk no:369\n",
            "Added context to chunk no:370\n",
            "Added context to chunk no:371\n",
            "Added context to chunk no:372\n",
            "Added context to chunk no:373\n",
            "Added context to chunk no:374\n",
            "Added context to chunk no:375\n",
            "Added context to chunk no:376\n",
            "Added context to chunk no:377\n",
            "Added context to chunk no:378\n",
            "Added context to chunk no:379\n",
            "Added context to chunk no:380\n",
            "Added context to chunk no:381\n",
            "Added context to chunk no:382\n",
            "Added context to chunk no:383\n",
            "Added context to chunk no:384\n",
            "Added context to chunk no:385\n",
            "Added context to chunk no:386\n",
            "Added context to chunk no:387\n",
            "Added context to chunk no:388\n",
            "Added context to chunk no:389\n",
            "Added context to chunk no:390\n",
            "Added context to chunk no:391\n",
            "Added context to chunk no:392\n",
            "Added context to chunk no:393\n",
            "Added context to chunk no:394\n",
            "Added context to chunk no:395\n",
            "Added context to chunk no:396\n",
            "Added context to chunk no:397\n",
            "Added context to chunk no:398\n",
            "Added context to chunk no:399\n",
            "Added context to chunk no:400\n",
            "Added context to chunk no:401\n",
            "Added context to chunk no:402\n",
            "Added context to chunk no:403\n",
            "Added context to chunk no:404\n",
            "Added context to chunk no:405\n",
            "Added context to chunk no:406\n",
            "Added context to chunk no:407\n",
            "Added context to chunk no:408\n",
            "Added context to chunk no:409\n",
            "Added context to chunk no:410\n",
            "Added context to chunk no:411\n",
            "Added context to chunk no:412\n",
            "Added context to chunk no:413\n",
            "Added context to chunk no:414\n",
            "Added context to chunk no:415\n",
            "Added context to chunk no:416\n",
            "Added context to chunk no:417\n",
            "Added context to chunk no:418\n",
            "Added context to chunk no:419\n",
            "Added context to chunk no:420\n",
            "Added context to chunk no:421\n",
            "Added context to chunk no:422\n",
            "Added context to chunk no:423\n",
            "Added context to chunk no:424\n",
            "Added context to chunk no:425\n",
            "Added context to chunk no:426\n",
            "Added context to chunk no:427\n",
            "Added context to chunk no:428\n",
            "Added context to chunk no:429\n",
            "Added context to chunk no:430\n",
            "Added context to chunk no:431\n",
            "Added context to chunk no:432\n"
          ]
        }
      ]
    },
    {
      "cell_type": "code",
      "source": [
        "contextualized_chunks[102]"
      ],
      "metadata": {
        "colab": {
          "base_uri": "https://localhost:8080/"
        },
        "id": "iow1R34O_LeH",
        "outputId": "787d5c8a-6ea6-48b2-e439-e4d3f480fd0a"
      },
      "execution_count": 36,
      "outputs": [
        {
          "output_type": "execute_result",
          "data": {
            "text/plain": [
              "Document(metadata={'source': '/content/build-career-in-ai.pdf', 'page': 10}, page_content='This chunk is part of Chapter 2, \"Learning Technical Skills for a Promising AI Career,\" where the author discusses the importance of building small, consistent habits for effective learning. It emphasizes starting with manageable goals, such as watching a brief educational video daily, to cultivate a routine of continuous study and skill development in the field of AI.\\n\\nand succeed, rather than start  too big and fail. For example, rather than trying to \\nexercise for 30 minutes a day, he recommends aspiring to do just one push-up, and \\ndoing it consistently.\\nThis approach may be helpful to those of you who want to spend more time studying. \\nIf you start by holding yourself accountable for watching, say, 10 seconds of an \\neducational video every day — and you do so consistently — the habit of studying daily')"
            ]
          },
          "metadata": {},
          "execution_count": 36
        }
      ]
    },
    {
      "cell_type": "markdown",
      "source": [
        "### Vectorizing and saving in vectorstore"
      ],
      "metadata": {
        "id": "Mx9_MpffYmlu"
      }
    },
    {
      "cell_type": "code",
      "source": [
        "from langchain_chroma import Chroma\n",
        "\n",
        "db = Chroma.from_documents(contextualized_chunks ,embeddings)"
      ],
      "metadata": {
        "id": "rz2qXPr_Fmzd"
      },
      "execution_count": 37,
      "outputs": []
    },
    {
      "cell_type": "code",
      "source": [
        "from langchain.retrievers import EnsembleRetriever\n",
        "from langchain_community.retrievers import BM25Retriever"
      ],
      "metadata": {
        "id": "VFBlu_toYyDg"
      },
      "execution_count": 38,
      "outputs": []
    },
    {
      "cell_type": "code",
      "source": [
        "vector_retriever = db.as_retriever()\n",
        "bm25_retriever = BM25Retriever.from_documents(contextualized_chunks)"
      ],
      "metadata": {
        "id": "uBkfStChY_-F"
      },
      "execution_count": 39,
      "outputs": []
    },
    {
      "cell_type": "code",
      "source": [
        "ensemble_retriever = EnsembleRetriever(\n",
        "    retrievers=[bm25_retriever, vector_retriever], weights=[0.5, 0.5]\n",
        ")"
      ],
      "metadata": {
        "id": "SB0iSLtzZAYR"
      },
      "execution_count": 40,
      "outputs": []
    },
    {
      "cell_type": "code",
      "source": [
        "ensemble_retriever.invoke(\"How to excel in AI?\")"
      ],
      "metadata": {
        "colab": {
          "base_uri": "https://localhost:8080/"
        },
        "id": "nH7k87Tpsjt7",
        "outputId": "ae1c63f0-dafc-462f-c543-95b8a0d64d57"
      },
      "execution_count": 49,
      "outputs": [
        {
          "output_type": "execute_result",
          "data": {
            "text/plain": [
              "[Document(metadata={'source': '/content/build-career-in-ai.pdf', 'page': 12}, page_content='This chunk is from Chapter 3 of the document, titled \"Should You Learn Math to Get a Job in AI?\" It discusses the importance of math as a foundational skill for a career in AI, emphasizing the need to prioritize specific mathematical knowledge relevant to decision-making in AI roles.\\n\\nPAGE 13Should you Learn Math to Get a Job in AI? CHAPTER 3\\nIs math a foundational skill for AI? It’s always nice to know more math! But there’s so much to \\nlearn that, realistically, it’s necessary to prioritize. Here’s how you might go about strengthening \\nyour math background.\\nTo figure out what’s important to know, I find it useful to ask what you need to know to make \\nthe decisions required for the work you want to do. At DeepLearning.AI, we frequently ask,'),\n",
              " Document(metadata={'page': 34, 'source': '/content/build-career-in-ai.pdf'}, page_content='This chunk is from Chapter 10, titled \"Keys to Building a Career in AI,\" which discusses essential factors for achieving career success in the AI field. It emphasizes the importance of teamwork, collaboration, and interpersonal skills as critical components for navigating large projects and advancing in one\\'s career.\\n\\nThe path to career success in AI is more complex than what I can  cover in one short eBook. \\nHopefully the previous chapters will give you momentum to move forward. \\nHere are additional things to think about as you plot your path to success: \\nWhen we tackle large projects, we succeed better by \\nworking in teams than individually. The ability to collaborate \\nwith, influence, and be influenced by others is critical. \\nThus, interpersonal and communication skills really matter.'),\n",
              " Document(metadata={'source': '/content/build-career-in-ai.pdf', 'page': 11}, page_content='This chunk is from Chapter 3 of the document, titled \"Should You Learn Math to Get a Job in AI?\" It discusses the importance of math as a foundational skill for a career in AI, emphasizing the relevance of understanding mathematical concepts for making informed decisions in machine learning and AI roles.\\n\\nPAGE 12Should You \\nLearn Math to \\nGet a Job in AI? CHAPTER 3\\nLEARNING'),\n",
              " Document(metadata={'page': 2, 'source': '/content/build-career-in-ai.pdf'}, page_content='This chunk is an excerpt from the Table of Contents of the document \"How to Build Your Career in AI\" by Andrew Ng, outlining the chapters that guide readers through the process of developing a career in artificial intelligence, including steps for career growth, technical skill acquisition, project scoping, and job searching strategies.\\n\\nChapter 1: Three Steps to Career Growth.\\nChapter 2: Learning Technical Skills for a \\nPromising AI Career.\\nChapter 3: Should You Learn Math to Get a Job \\nin AI?\\nChapter 4: Scoping Successful AI Projects.\\nChapter 5: Finding Projects that Complement \\nYour Career Goals.\\nChapter 6: Building a Portfolio of Projects that \\nShows Skill Progression.\\nChapter 7: A Simple Framework for Starting Your AI \\nJob Search.\\nChapter 8: Using Informational Interviews to Find \\nthe Right Job.'),\n",
              " Document(metadata={'source': '/content/build-career-in-ai.pdf', 'page': 8}, page_content='This chunk is part of Chapter 2, which focuses on learning technical skills essential for a promising career in AI. It discusses foundational machine learning skills, emphasizing the importance of understanding core concepts and deep learning fundamentals.\\n\\ndetection. Beyond specific models, it’s even more important to understand the core concepts \\nbehind how and why machine learning works, such as bias/variance, cost functions, regularization, \\noptimization algorithms, and error analysis.\\nDeep learning: This has become such a large fraction of machine learning that it’s hard to excel \\nin the field without some understanding of it! It’s valuable to know the basics of neural networks,'),\n",
              " Document(metadata={'page': 2, 'source': '/content/build-career-in-ai.pdf'}, page_content='This chunk is an excerpt from the Table of Contents of the document \"How to Build Your Career in AI\" by Andrew Ng, outlining the chapters that guide readers through various aspects of developing a career in artificial intelligence, including learning technical skills, scoping projects, building a portfolio, and job search strategies.\\n\\nPromising AI Career.\\nChapter 3: Should You Learn Math to Get a Job \\nin AI?\\nChapter 4: Scoping Successful AI Projects.\\nChapter 5: Finding Projects that Complement \\nYour Career Goals.\\nChapter 6: Building a Portfolio of Projects that \\nShows Skill Progression.\\nChapter 7: A Simple Framework for Starting Your AI \\nJob Search.\\nChapter 8: Using Informational Interviews to Find \\nthe Right Job.\\nChapter 9: Finding the Right AI Job for You.\\nChapter 10: Keys to Building a Career in AI.'),\n",
              " Document(metadata={'source': '/content/build-career-in-ai.pdf', 'page': 8}, page_content='This chunk is part of Chapter 2, \"Learning Technical Skills for a Promising AI Career,\" which discusses the foundational skills necessary for a career in AI, emphasizing the importance of understanding machine learning concepts and deep learning techniques.\\n\\nbehind how and why machine learning works, such as bias/variance, cost functions, regularization, \\noptimization algorithms, and error analysis.\\nDeep learning: This has become such a large fraction of machine learning that it’s hard to excel \\nin the field without some understanding of it! It’s valuable to know the basics of neural networks, \\npractical skills for making them work (such as hyperparameter tuning), convolutional networks, \\nsequence models, and transformers.'),\n",
              " Document(metadata={'page': 9, 'source': '/content/build-career-in-ai.pdf'}, page_content='This chunk is part of Chapter 2, \"Learning Technical Skills for a Promising AI Career,\" which emphasizes the importance of structured learning and continuous education in the rapidly evolving field of AI and machine learning. It highlights the necessity of mastering foundational knowledge through organized courses before transitioning to more advanced resources like research papers, and underscores the value of lifelong learning in maintaining relevance in the industry.\\n\\nmost time-efficient way to master a meaningful body of knowledge. When you’ve absorbed the \\nknowledge available in courses, you can switch over to research papers and other resources.\\nFinally, no one can cram everything they need to know over a weekend or even a month. Everyone I \\nknow who’s great at machine learning is a lifelong learner. Given how quickly our field is changing, \\nthere’s little choice but to keep learning if you want to keep up.')]"
            ]
          },
          "metadata": {},
          "execution_count": 49
        }
      ]
    },
    {
      "cell_type": "code",
      "source": [],
      "metadata": {
        "id": "X3TrSdY2sn-8"
      },
      "execution_count": null,
      "outputs": []
    }
  ]
}